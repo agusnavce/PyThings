{
 "cells": [
  {
   "cell_type": "code",
   "execution_count": 1,
   "metadata": {
    "collapsed": true
   },
   "outputs": [],
   "source": [
    "import scipy.io\n",
    "mat = scipy.io.loadmat('datos3d.mat')"
   ]
  },
  {
   "cell_type": "code",
   "execution_count": 6,
   "metadata": {},
   "outputs": [
    {
     "name": "stdout",
     "output_type": "stream",
     "text": [
      "[[-7.82 -6.68  4.36  6.72 -8.64 -6.87  4.47  6.73 -7.71 -6.91  6.18  6.72\n",
      "  -6.25 -6.94  8.09  6.81 -5.19 -6.38  4.08  6.27]\n",
      " [-4.58  3.16 -2.19  0.88  3.06  0.57 -2.62 -2.01  2.34 -0.49  2.81 -0.93\n",
      "  -0.26 -1.22  0.2   0.17  4.24 -1.74  1.3   0.93]\n",
      " [-3.97  2.71  2.09  2.8   3.5  -5.45  5.76  4.18 -6.33 -5.68  5.82 -4.04\n",
      "   0.56  1.13  2.25 -4.15  4.04  1.43  5.33 -2.78]]\n"
     ]
    }
   ],
   "source": [
    "data = mat['datos3d']\n",
    "print data\n"
   ]
  },
  {
   "cell_type": "code",
   "execution_count": 30,
   "metadata": {},
   "outputs": [
    {
     "name": "stdout",
     "output_type": "stream",
     "text": [
      "The autoreload extension is already loaded. To reload it, use:\n",
      "  %reload_ext autoreload\n"
     ]
    }
   ],
   "source": [
    "import kmeans\n",
    "%load_ext autoreload\n",
    "%autoreload 2"
   ]
  },
  {
   "cell_type": "code",
   "execution_count": 35,
   "metadata": {},
   "outputs": [
    {
     "ename": "IndentationError",
     "evalue": "unindent does not match any outer indentation level (<ipython-input-35-23f3e47afd40>, line 22)",
     "output_type": "error",
     "traceback": [
      "\u001b[0;36m  File \u001b[0;32m\"<ipython-input-35-23f3e47afd40>\"\u001b[0;36m, line \u001b[0;32m22\u001b[0m\n\u001b[0;31m    previous = dict(self.centroids)\u001b[0m\n\u001b[0m                                   ^\u001b[0m\n\u001b[0;31mIndentationError\u001b[0m\u001b[0;31m:\u001b[0m unindent does not match any outer indentation level\n"
     ]
    }
   ],
   "source": [
    "import math\n",
    "\n",
    "class K_Means(object):\n",
    "\n",
    "\tdef __init__(self, centroids, c =3, tolerance = 0.0001, max_iterations = 500):\n",
    "\t\tself.c = c\n",
    "\t\tself.tolerance = tolerance\n",
    "\t\tself.max_iterations = max_iterations\n",
    "\t\tself.centroids = centroids\n",
    "\tdef fit(self, data):\n",
    "\t\ta = 2\n",
    "        for i in range(self.max_iterations):\n",
    "#             self.classes = {}\n",
    "#             for i in range(self.k):\n",
    "#                 self.classes[i] = []\n",
    "\n",
    "    \t\t#find the distance between the point and cluster; choose the nearest centroid\n",
    "    \t\tfor features in data:\n",
    "    \t\t\tdistances = [np.linalg.norm(features - self.centroids[centroid]) for centroid in self.centroids]\n",
    "    \t\t\tclassification = distances.index(min(distances))\n",
    "    \t\t\tself.classes[classification].append(features)\n",
    "            previous = dict(self.centroids)\n",
    "\n",
    "            #average the cluster datapoints to re-calculate the centroids\n",
    "            for classification in self.classes:\n",
    "    \t           self.centroids[classification] = np.average(self.classes[classification], axis = 0)\n",
    "            # see if it converged\n",
    "\n",
    "            isOptimal = True\n",
    "            for centroid in self.centroids:\n",
    "                original_centroid = previous[centroid]\n",
    "    \t        curr = self.centroids[centroid]\n",
    "\n",
    "    \t        if np.sum((curr - original_centroid)/original_centroid * 100.0) > self.tolerance:\n",
    "    \t\t              isOptimal = False\n",
    "\n",
    "    \t    #break out of the main loop if the results are optimal, ie. the centroids don't change their positions much(more than our tolerance)\n",
    "\n",
    "            if isOptimal:\n",
    "                break\n"
   ]
  },
  {
   "cell_type": "code",
   "execution_count": 33,
   "metadata": {},
   "outputs": [
    {
     "ename": "NameError",
     "evalue": "name 'k_Means' is not defined",
     "output_type": "error",
     "traceback": [
      "\u001b[0;31m---------------------------------------------------------------------------\u001b[0m",
      "\u001b[0;31mNameError\u001b[0m                                 Traceback (most recent call last)",
      "\u001b[0;32m<ipython-input-33-d5b8082ab171>\u001b[0m in \u001b[0;36m<module>\u001b[0;34m()\u001b[0m\n\u001b[0;32m----> 1\u001b[0;31m \u001b[0mkmeans\u001b[0m \u001b[0;34m=\u001b[0m \u001b[0mk_Means\u001b[0m\u001b[0;34m(\u001b[0m\u001b[0;34m)\u001b[0m\u001b[0;34m\u001b[0m\u001b[0m\n\u001b[0m",
      "\u001b[0;31mNameError\u001b[0m: name 'k_Means' is not defined"
     ]
    }
   ],
   "source": [
    "kmeans = k_Means()"
   ]
  },
  {
   "cell_type": "code",
   "execution_count": null,
   "metadata": {
    "collapsed": true
   },
   "outputs": [],
   "source": []
  },
  {
   "cell_type": "code",
   "execution_count": null,
   "metadata": {
    "collapsed": true
   },
   "outputs": [],
   "source": []
  }
 ],
 "metadata": {
  "kernelspec": {
   "display_name": "Python 2",
   "language": "python",
   "name": "python2"
  },
  "language_info": {
   "codemirror_mode": {
    "name": "ipython",
    "version": 2
   },
   "file_extension": ".py",
   "mimetype": "text/x-python",
   "name": "python",
   "nbconvert_exporter": "python",
   "pygments_lexer": "ipython2",
   "version": "2.7.12"
  }
 },
 "nbformat": 4,
 "nbformat_minor": 2
}
