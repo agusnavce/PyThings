{
 "cells": [
  {
   "cell_type": "code",
   "execution_count": 1,
   "metadata": {},
   "outputs": [
    {
     "data": {
      "image/png": "[encoded data removed]",
      "text/plain": [
       "<matplotlib.figure.Figure at 0x7f89019e7350>"
      ]
     },
     "metadata": {},
     "output_type": "display_data"
    }
   ],
   "source": [
    "import csv\n",
    "import numpy as np\n",
    "import matplotlib.pyplot as plt\n",
    "\n",
    "with open('archivos_practico2_2017/dataset1Pr2.csv', 'r') as f:\n",
    "        data = [row for row in csv.reader(f.read().splitlines(),delimiter=',',quoting=csv.QUOTE_NONNUMERIC)]\n",
    "X = []\n",
    "Y = []\n",
    "for lis in data:\n",
    "   \n",
    "    X.append([lis[0],lis[1]])\n",
    "    if lis[2] == 0:\n",
    "        Y.append(-1)\n",
    "    else:\n",
    "        Y.append(1)\n",
    "    \n",
    "for x in data:\n",
    "    r = x[2]\n",
    "    if r == 1:\n",
    "        plt.plot(x[0],x[1],'ob')  \n",
    "    else:\n",
    "        plt.plot(x[0],x[1],'or')\n",
    "plt.show()  "
   ]
  },
  {
   "cell_type": "code",
   "execution_count": 2,
   "metadata": {},
   "outputs": [
    {
     "name": "stdout",
     "output_type": "stream",
     "text": [
      "Mean Vector class 0: [ -0.2861067 -11.7981939]\n",
      "\n",
      "Mean Vector class 1: [  1.2259011  11.1264771]\n",
      "\n"
     ]
    }
   ],
   "source": [
    "\n",
    "mean_vectors = []\n",
    "mean_vectors.append(np.mean(X[:100], axis=0))\n",
    "print('Mean Vector class %s: %s\\n' %(0, mean_vectors[0]))\n",
    "mean_vectors.append(np.mean(X[100:200], axis=0))\n",
    "print('Mean Vector class %s: %s\\n' %(1, mean_vectors[1]))\n",
    "mean_vectors= np.array(mean_vectors)"
   ]
  },
  {
   "cell_type": "code",
   "execution_count": 4,
   "metadata": {},
   "outputs": [
    {
     "name": "stdout",
     "output_type": "stream",
     "text": [
      "between-class Scatter Matrix:\n",
      "[[   2.28616759   34.66228136]\n",
      " [  34.66228136  525.54054046]]\n",
      "within-class Scatter Matrix:\n",
      "[[ 5499.55493277  1334.79101276]\n",
      " [ 1334.79101276  3646.42006707]]\n"
     ]
    }
   ],
   "source": [
    "S_B = np.outer((mean_vectors[1]-mean_vectors[0]),(mean_vectors[1]-mean_vectors[0]))\n",
    "print 'between-class Scatter Matrix:\\n', S_B\n",
    "S_W = np.zeros((2,2))\n",
    "class_sc_mat = np.zeros((2,2))                  # scatter matrix for every class\n",
    "dats = X[:100]\n",
    "for row in dats:\n",
    "    class_sc_mat += np.outer(row-mean_vectors[0],(row-mean_vectors[0]))\n",
    "S_W += class_sc_mat # sum class scatter matrices\n",
    "dats = X[100:200]\n",
    "for row in dats:\n",
    "    class_sc_mat += np.outer(row-mean_vectors[1],(row-mean_vectors[1]))\n",
    "S_W += class_sc_mat # sum class scatter matrices\n",
    "print 'within-class Scatter Matrix:\\n', S_W\n"
   ]
  },
  {
   "cell_type": "code",
   "execution_count": 6,
   "metadata": {},
   "outputs": [
    {
     "name": "stdout",
     "output_type": "stream",
     "text": [
      "optimal vector: [-0.00137293  0.00678947]\n"
     ]
    }
   ],
   "source": [
    "\n",
    "w = np.linalg.inv(S_W).dot((mean_vectors[1]-mean_vectors[0]))\n",
    "print 'optimal vector:',w"
   ]
  },
  {
   "cell_type": "code",
   "execution_count": 19,
   "metadata": {},
   "outputs": [
    {
     "data": {
      "image/png": "[encoded data removed]",
      "text/plain": [
       "<matplotlib.figure.Figure at 0x7f88fe3455d0>"
      ]
     },
     "metadata": {},
     "output_type": "display_data"
    }
   ],
   "source": [
    "for x in data:\n",
    "    r = x[2]\n",
    "    if r == 1:\n",
    "        plt.plot(x[0],x[1],'ob')  \n",
    "    else:\n",
    "        plt.plot(x[0],x[1],'or')\n",
    "ax = plt.axes()        \n",
    "ax.arrow(0, 0, w[0]*2000,w[1]*2000,head_width=0.55, head_length=1.5, fc='k', ec='k')        \n",
    "plt.savefig('LDA_ar.jpg')\n",
    "plt.show()  "
   ]
  },
  {
   "cell_type": "code",
   "execution_count": 12,
   "metadata": {},
   "outputs": [],
   "source": [
    "def predict(w,x):\n",
    "        \"\"\" LDA DISCRIMINANT OUTPUT \"\"\"\n",
    "        y = x[0]*w[0]+x[1]*w[1] # dot product between w and x\n",
    "        if y >= 0:\n",
    "            return 1\n",
    "        else:\n",
    "            return -1"
   ]
  },
  {
   "cell_type": "code",
   "execution_count": 14,
   "metadata": {},
   "outputs": [],
   "source": [
    "r_lab = []\n",
    "for x in data:\n",
    "    r_lab.append(predict(w,x))"
   ]
  },
  {
   "cell_type": "code",
   "execution_count": 20,
   "metadata": {},
   "outputs": [
    {
     "data": {
      "image/png": "[encoded data removed]",
      "text/plain": [
       "<matplotlib.figure.Figure at 0x7f88fdb341d0>"
      ]
     },
     "metadata": {},
     "output_type": "display_data"
    },
    {
     "data": {
      "image/png": "[encoded data removed]",
      "text/plain": [
       "<matplotlib.figure.Figure at 0x7f88fd62b550>"
      ]
     },
     "metadata": {},
     "output_type": "display_data"
    }
   ],
   "source": [
    "plt.title('LDA Classification')\n",
    "for x,rl in zip(data,r_lab):\n",
    "    r = rl\n",
    "    if r == 1:\n",
    "        plt.plot(x[0],x[1],'ob')  \n",
    "    else:\n",
    "        plt.plot(x[0],x[1],'or') \n",
    "plt.savefig('LDA_clas.jpg')        \n",
    "plt.show() \n",
    "\n",
    "plt.title('Correct Classification')\n",
    "for x in data:\n",
    "    r = x[2]\n",
    "    if r == 1:\n",
    "        plt.plot(x[0],x[1],'ob')  \n",
    "    else:\n",
    "        plt.plot(x[0],x[1],'or')   \n",
    "plt.show() "
   ]
  },
  {
   "cell_type": "code",
   "execution_count": 18,
   "metadata": {},
   "outputs": [
    {
     "name": "stdout",
     "output_type": "stream",
     "text": [
      "Accuracy : 0.99\n"
     ]
    }
   ],
   "source": [
    "print 'Accuracy : {0}'.format((np.array(r_lab) == Y).sum().astype(float) / len(r_lab))"
   ]
  },
  {
   "cell_type": "code",
   "execution_count": null,
   "metadata": {
    "collapsed": true
   },
   "outputs": [],
   "source": []
  }
 ],
 "metadata": {
  "kernelspec": {
   "display_name": "Python 2",
   "language": "python",
   "name": "python2"
  },
  "language_info": {
   "codemirror_mode": {
    "name": "ipython",
    "version": 2
   },
   "file_extension": ".py",
   "mimetype": "text/x-python",
   "name": "python",
   "nbconvert_exporter": "python",
   "pygments_lexer": "ipython2",
   "version": "2.7.13"
  }
 },
 "nbformat": 4,
 "nbformat_minor": 2
}
