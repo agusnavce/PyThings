{
 "cells": [
  {
   "cell_type": "code",
   "execution_count": 18,
   "metadata": {},
   "outputs": [
    {
     "data": {
      "image/png": "[encoded data removed]",
      "text/plain": [
       "<matplotlib.figure.Figure at 0x7f3099700190>"
      ]
     },
     "metadata": {},
     "output_type": "display_data"
    }
   ],
   "source": [
    "import csv\n",
    "import numpy as np\n",
    "import matplotlib.pyplot as plt\n",
    "\n",
    "with open('archivos_practico2_2017/dataset2Pr2.csv', 'r') as f:\n",
    "        data = [row for row in csv.reader(f.read().splitlines(),delimiter=',',quoting=csv.QUOTE_NONNUMERIC)]\n",
    "X = []\n",
    "Y = []\n",
    "for lis in data:\n",
    "   \n",
    "    X.append([lis[0],lis[1]])\n",
    "    Y.append(lis[2])\n",
    "for x in data:\n",
    "    r = x[2]\n",
    "    if r == 1:\n",
    "        plt.plot(x[0],x[1],'ob')  \n",
    "    else:\n",
    "        plt.plot(x[0],x[1],'or')\n",
    "plt.savefig('reg.jpg')\n",
    "plt.show()  "
   ]
  },
  {
   "cell_type": "code",
   "execution_count": 19,
   "metadata": {
    "collapsed": true
   },
   "outputs": [],
   "source": [
    "\n",
    "def sigmoid(scores):\n",
    "    '''Sigmoid Function'''\n",
    "    return 1 / (1 + np.exp(-scores))\n",
    "\n",
    "def log_likelihood(features, target, weights):\n",
    "    '''Logarithmic Likelihood'''\n",
    "    scores = np.dot(features, weights)\n",
    "    ll = np.sum( target*scores - np.log(1 + np.exp(scores)) )\n",
    "    return ll\n",
    "\n",
    "def logistic_regression(features, target, num_steps, learning_rate, add_intercept = False):\n",
    "    '''Logistic regression implementation'''\n",
    "    if add_intercept:\n",
    "        intercept = np.ones((features.shape[0], 1))\n",
    "        features = np.hstack((intercept, features))\n",
    "    #weight initialization    \n",
    "    weights = np.zeros(features.shape[1])\n",
    "    \n",
    "    for step in xrange(num_steps):\n",
    "        scores = np.dot(features, weights)\n",
    "        predictions = sigmoid(scores)\n",
    "        # Implementation for gradient descent\n",
    "        output_error_signal = target - predictions\n",
    "        gradient = np.dot(features.T, output_error_signal)\n",
    "        weights += learning_rate * gradient\n",
    "        \n",
    "        \n",
    "    return weights\n"
   ]
  },
  {
   "cell_type": "code",
   "execution_count": 20,
   "metadata": {
    "collapsed": true
   },
   "outputs": [],
   "source": [
    "X_train = []\n",
    "y_train = []\n",
    "X_test = []\n",
    "y_test = []\n",
    "for l in range(70):\n",
    "    X_train.append([data[l][0],data[l][1]])\n",
    "    y_train.append(data[l][2])\n",
    "for l in range(100,170):\n",
    "    X_train.append([data[l][0],data[l][1]])\n",
    "    y_train.append(data[l][2])\n",
    "    \n",
    "for l in range(70,100):\n",
    "   \n",
    "    X_test.append([data[l][0],data[l][1]])\n",
    "    y_test.append(data[l][2])\n",
    "for l in range(170,200):\n",
    "    X_test.append([data[l][0],data[l][1]])\n",
    "    y_test.append(data[l][2])    "
   ]
  },
  {
   "cell_type": "code",
   "execution_count": 41,
   "metadata": {
    "collapsed": true
   },
   "outputs": [],
   "source": [
    "\n",
    "weights = logistic_regression(np.array(X_train), np.array(y_train),num_steps = 30000, learning_rate = 200e-5, add_intercept=True)\n"
   ]
  },
  {
   "cell_type": "code",
   "execution_count": 42,
   "metadata": {},
   "outputs": [
    {
     "name": "stdout",
     "output_type": "stream",
     "text": [
      "[ 0.  0.  0.  0.  0.  0.  0.  0.  0.  0.  0.  0.  0.  0.  0.  0.  0.  0.\n",
      "  0.  0.  0.  0.  0.  0.  0.  0.  0.  0.  0.  0.  1.  1.  1.  1.  1.  1.\n",
      "  1.  1.  1.  1.  1.  1.  1.  1.  1.  1.  1.  1.  1.  1.  1.  0.  1.  1.\n",
      "  1.  1.  1.  1.  1.  1.]\n"
     ]
    }
   ],
   "source": [
    "X_1 = np.hstack((np.ones((np.array(X_test).shape[0], 1)),X_test))\n",
    "final_scores = np.dot(X_1, weights)\n",
    "preds = np.round(sigmoid(final_scores))\n",
    "print preds"
   ]
  },
  {
   "cell_type": "code",
   "execution_count": 43,
   "metadata": {},
   "outputs": [
    {
     "name": "stdout",
     "output_type": "stream",
     "text": [
      "Accuracy from scratch: 0.983333333333\n"
     ]
    }
   ],
   "source": [
    "print 'Accuracy from scratch: {0}'.format((preds == y_test).sum().astype(float) / len(preds))"
   ]
  },
  {
   "cell_type": "code",
   "execution_count": 63,
   "metadata": {},
   "outputs": [
    {
     "data": {
      "image/png": "[encoded data removed]",
      "text/plain": [
       "<matplotlib.figure.Figure at 0x7f3098d4d510>"
      ]
     },
     "metadata": {},
     "output_type": "display_data"
    }
   ],
   "source": [
    "import matplotlib.lines as mlines\n",
    "first = True\n",
    "first2 = True\n",
    "for label,data,true in zip(preds,X_test,y_test):\n",
    "    if label == 1 and true == 1 :\n",
    "        if first:\n",
    "            plt.plot(data[0],data[1],'og', label = 'Clase 1')\n",
    "            first = False\n",
    "        else:\n",
    "            plt.plot(data[0],data[1],'og')\n",
    "    else:\n",
    "        if label == 1:\n",
    "            plt.plot(data[0],data[1],'*g')  \n",
    "    if label == 0 and true == 0:    \n",
    "        if first2:\n",
    "            plt.plot(data[0],data[1],'ob', label = 'Clase 2')\n",
    "            first2 = False\n",
    "        else:    \n",
    "            plt.plot(data[0],data[1],'ob')\n",
    "    else:\n",
    "        if label == 0:\n",
    "            plt.plot(data[0],data[1],'*b', label = 'No de Clase 2')\n",
    "plt.title('Patrones Clasificados')\n",
    "plt.legend(loc= 'upper left')\n",
    "plt.savefig('reg_pred_tt.jpg')\n",
    "plt.show()  \n",
    "    "
   ]
  },
  {
   "cell_type": "code",
   "execution_count": null,
   "metadata": {
    "collapsed": true
   },
   "outputs": [],
   "source": []
  }
 ],
 "metadata": {
  "kernelspec": {
   "display_name": "Python 2",
   "language": "python",
   "name": "python2"
  },
  "language_info": {
   "codemirror_mode": {
    "name": "ipython",
    "version": 2
   },
   "file_extension": ".py",
   "mimetype": "text/x-python",
   "name": "python",
   "nbconvert_exporter": "python",
   "pygments_lexer": "ipython2",
   "version": "2.7.13"
  }
 },
 "nbformat": 4,
 "nbformat_minor": 2
}
