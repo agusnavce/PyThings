{
 "cells": [
  {
   "cell_type": "code",
   "execution_count": 4,
   "metadata": {},
   "outputs": [
    {
     "data": {
      "image/png": "[encoded data removed]",
      "text/plain": [
       "<matplotlib.figure.Figure at 0x7fc053dfd6d0>"
      ]
     },
     "metadata": {},
     "output_type": "display_data"
    }
   ],
   "source": [
    "import csv\n",
    "import numpy as np\n",
    "import matplotlib.pyplot as plt\n",
    "\n",
    "with open('archivos_practico2_2017/dataset1Pr2.csv', 'r') as f:\n",
    "        data = [row for row in csv.reader(f.read().splitlines(),delimiter=',',quoting=csv.QUOTE_NONNUMERIC)]\n",
    "X = []\n",
    "Y = []\n",
    "for lis in data:\n",
    "    if lis[2] == 0:\n",
    "        X.append([lis[0],lis[1],-1])\n",
    "    else:\n",
    "        X.append(lis) \n",
    "for x in X:\n",
    "    r = x[2]\n",
    "    if r == 1:\n",
    "        plt.plot(x[0],x[1],'ob')  \n",
    "    else:\n",
    "        plt.plot(x[0],x[1],'or')       \n",
    "plt.show()        "
   ]
  },
  {
   "cell_type": "code",
   "execution_count": 13,
   "metadata": {},
   "outputs": [],
   "source": [
    "from numpy.random import rand\n",
    "\n",
    "class Perceptron:\n",
    "    def __init__(self):\n",
    "        \"\"\" perceptron initialization \"\"\"\n",
    "        self.w = rand(2)*2-1 # weights\n",
    "        self.bias = rand(1)*2-1\n",
    "        self.learningRate = 0.1\n",
    "\n",
    "    def response(self,x):\n",
    "        \"\"\" perceptron output \"\"\"\n",
    "        y = x[0]*self.w[0]+x[1]*self.w[1] + self.bias # dot product between w and x\n",
    "        if y >= 0:\n",
    "            return 1\n",
    "        else:\n",
    "            return -1\n",
    "\n",
    "    def updateWeights(self,x,iterError):\n",
    "        \"\"\"\n",
    "        updates the weights status, w at time t+1 is\n",
    "            w(t+1) = w(t) + learningRate*(d-r)*x\n",
    "        where d is desired output and r the perceptron response\n",
    "        iterError is (d-r)\n",
    "        \"\"\"\n",
    "        self.w[0] += self.learningRate*iterError*x[0]\n",
    "        self.w[1] += self.learningRate*iterError*x[1]\n",
    "        self.bias += self.learningRate*iterError*x[2]\n",
    "\n",
    "    def train(self,data):\n",
    "        \"\"\" \n",
    "        trains all the vector in data.\n",
    "        Every vector in data must have three elements,\n",
    "        the third element (x[2]) must be the label (desired output)\n",
    "        \"\"\"\n",
    "        learned = False\n",
    "        iteration = 0\n",
    "        while not learned:\n",
    "            globalError = 0.0\n",
    "            for x in data: # for each sample\n",
    "                r = self.response(x)    \n",
    "                if x[2] != r: # if we have a wrong response\n",
    "                    iterError = x[2] - r # desired response - actual response\n",
    "                    self.updateWeights(x,iterError)\n",
    "                    globalError += abs(iterError)\n",
    "            iteration += 1\n",
    "            if globalError == 0.0 or iteration >= 1500: # stop criteria\n",
    "                print 'iterations',iteration\n",
    "                learned = True # stop learning"
   ]
  },
  {
   "cell_type": "code",
   "execution_count": 21,
   "metadata": {},
   "outputs": [
    {
     "name": "stdout",
     "output_type": "stream",
     "text": [
      "iterations 5\n",
      "[ 0.33613184  2.15584698]\n",
      "[ 1.15357911]\n"
     ]
    },
    {
     "data": {
      "image/png": "[encoded data removed]",
      "text/plain": [
       "<matplotlib.figure.Figure at 0x7fc0540d3090>"
      ]
     },
     "metadata": {},
     "output_type": "display_data"
    }
   ],
   "source": [
    "\n",
    "perceptron = Perceptron()   # perceptron instance\n",
    "perceptron.train(X)  # training\n",
    "\n",
    "# Perceptron test\n",
    "for x in X:\n",
    "    r = perceptron.response(x)\n",
    "    if r != x[2]: # if the response is not correct\n",
    "          print 'error'\n",
    "    if r == 1:\n",
    "        plt.plot(x[0],x[1],'ob')  \n",
    "    else:\n",
    "        plt.plot(x[0],x[1],'or')\n",
    "\n",
    "\n",
    "print perceptron.w\n",
    "print perceptron.bias\n",
    "\n",
    "\n",
    "x = np.linspace(-10,10)\n",
    "y = -(perceptron.w[0]/perceptron.w[1])*x-perceptron.bias\n",
    "\n",
    "fig1 = plt.plot(x, y, label = 'Linea de Decision')\n",
    "plt.legend(loc='upper left') \n",
    "plt.savefig('foo.jpg')\n",
    "plt.show()\n",
    "\n"
   ]
  },
  {
   "cell_type": "code",
   "execution_count": null,
   "metadata": {
    "collapsed": true
   },
   "outputs": [],
   "source": []
  }
 ],
 "metadata": {
  "kernelspec": {
   "display_name": "Python 2",
   "language": "python",
   "name": "python2"
  },
  "language_info": {
   "codemirror_mode": {
    "name": "ipython",
    "version": 2
   },
   "file_extension": ".py",
   "mimetype": "text/x-python",
   "name": "python",
   "nbconvert_exporter": "python",
   "pygments_lexer": "ipython2",
   "version": "2.7.13"
  }
 },
 "nbformat": 4,
 "nbformat_minor": 2
}
